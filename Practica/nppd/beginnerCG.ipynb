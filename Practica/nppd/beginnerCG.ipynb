{
 "cells": [
  {
   "cell_type": "markdown",
   "id": "4ac5f0e3",
   "metadata": {},
   "source": [
    "# Beginner Challenges (Easy)\n",
    "\n",
    "1. basic info\n",
    "    - Show the number of rows and columns\n",
    "    - Get the column names\n",
    "    - Display the data types of each column\n",
    "2. fist and last records\n",
    "    - Show the first 10 rows\n",
    "    - Show the last 5 rows\n",
    "3. Statistics summary\n",
    "    - Display summary statistics `(describe())` for numerical columns\n",
    "    - Show the average age of passengers\n",
    "4. Count missing values\n",
    "    - Count how many missing (`NaN`) values are in each column"
   ]
  },
  {
   "cell_type": "markdown",
   "id": "57e7a03d",
   "metadata": {},
   "source": [
    "## 1. Basic info"
   ]
  },
  {
   "cell_type": "code",
   "execution_count": null,
   "id": "75ac0ef5",
   "metadata": {},
   "outputs": [
    {
     "data": {
      "text/plain": [
       "(891, 15)"
      ]
     },
     "execution_count": 1,
     "metadata": {},
     "output_type": "execute_result"
    }
   ],
   "source": [
    "import pandas as pd\n",
    "import numpy as np\n",
    "import seaborn as sns\n",
    "\n",
    "tic = sns.load_dataset(\"titanic\")\n",
    "\n",
    "tic.shape"
   ]
  },
  {
   "cell_type": "code",
   "execution_count": 3,
   "id": "04fda3bd",
   "metadata": {},
   "outputs": [
    {
     "data": {
      "text/plain": [
       "Index(['survived', 'pclass', 'sex', 'age', 'sibsp', 'parch', 'fare',\n",
       "       'embarked', 'class', 'who', 'adult_male', 'deck', 'embark_town',\n",
       "       'alive', 'alone'],\n",
       "      dtype='object')"
      ]
     },
     "execution_count": 3,
     "metadata": {},
     "output_type": "execute_result"
    }
   ],
   "source": [
    "tic.columns"
   ]
  },
  {
   "cell_type": "code",
   "execution_count": 2,
   "id": "7b8c53c7",
   "metadata": {},
   "outputs": [
    {
     "name": "stdout",
     "output_type": "stream",
     "text": [
      "<class 'pandas.core.frame.DataFrame'>\n",
      "RangeIndex: 891 entries, 0 to 890\n",
      "Data columns (total 15 columns):\n",
      " #   Column       Non-Null Count  Dtype   \n",
      "---  ------       --------------  -----   \n",
      " 0   survived     891 non-null    int64   \n",
      " 1   pclass       891 non-null    int64   \n",
      " 2   sex          891 non-null    object  \n",
      " 3   age          714 non-null    float64 \n",
      " 4   sibsp        891 non-null    int64   \n",
      " 5   parch        891 non-null    int64   \n",
      " 6   fare         891 non-null    float64 \n",
      " 7   embarked     889 non-null    object  \n",
      " 8   class        891 non-null    category\n",
      " 9   who          891 non-null    object  \n",
      " 10  adult_male   891 non-null    bool    \n",
      " 11  deck         203 non-null    category\n",
      " 12  embark_town  889 non-null    object  \n",
      " 13  alive        891 non-null    object  \n",
      " 14  alone        891 non-null    bool    \n",
      "dtypes: bool(2), category(2), float64(2), int64(4), object(5)\n",
      "memory usage: 80.7+ KB\n"
     ]
    }
   ],
   "source": [
    "tic.info()"
   ]
  },
  {
   "cell_type": "markdown",
   "id": "1e4f6a63",
   "metadata": {},
   "source": [
    "# |Easy|"
   ]
  }
 ],
 "metadata": {
  "kernelspec": {
   "display_name": "Python 3",
   "language": "python",
   "name": "python3"
  },
  "language_info": {
   "codemirror_mode": {
    "name": "ipython",
    "version": 3
   },
   "file_extension": ".py",
   "mimetype": "text/x-python",
   "name": "python",
   "nbconvert_exporter": "python",
   "pygments_lexer": "ipython3",
   "version": "3.11.9"
  }
 },
 "nbformat": 4,
 "nbformat_minor": 5
}
